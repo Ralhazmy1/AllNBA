{
 "cells": [
  {
   "cell_type": "code",
   "execution_count": 1,
   "id": "19fd537b-e225-4e19-816d-31a1e1eb68f5",
   "metadata": {},
   "outputs": [],
   "source": [
    "from urllib.request import urlopen # to open URLs\n",
    "from bs4 import BeautifulSoup # pull data out of HTML, create a parse tree\n",
    "import pandas as pd # perform data manipulation and analysis"
   ]
  },
  {
   "cell_type": "code",
   "execution_count": 2,
   "id": "a6508f98-06d6-4067-a061-4f8021f17023",
   "metadata": {},
   "outputs": [],
   "source": [
    "perGame21 = urlopen(\"https://www.basketball-reference.com/leagues/NBA_2021_per_game.html\")\n",
    "persoup = BeautifulSoup(perGame21, features=\"lxml\")\n",
    "\n",
    "advanced21 = urlopen(\"https://www.basketball-reference.com/leagues/NBA_2021_advanced.html\")\n",
    "advsoup = BeautifulSoup(advanced21, features=\"lxml\")"
   ]
  },
  {
   "cell_type": "code",
   "execution_count": 3,
   "id": "d12f446f-f1d4-441c-90a0-304c776530de",
   "metadata": {},
   "outputs": [],
   "source": [
    "pertable = persoup.find('table', class_= 'sortable stats_table')"
   ]
  },
  {
   "cell_type": "code",
   "execution_count": 4,
   "id": "d16ad108-420e-4ddd-a659-07e18c2dd72f",
   "metadata": {},
   "outputs": [],
   "source": [
    "advtable = advsoup.find('table', class_= 'sortable stats_table')"
   ]
  },
  {
   "cell_type": "code",
   "execution_count": 5,
   "id": "bffdffee-d5b5-4ee2-b34a-e03e167b4dfd",
   "metadata": {},
   "outputs": [],
   "source": [
    "perDf = pd.DataFrame(columns=['Name', 'Pos', 'Age', 'G', 'GS', 'MP', 'FG', 'FGA', 'FG%', '3P', '3PA', '3P%', '2P', '2PA', '2P%', 'eFG%', 'FT', 'FTA', 'FT%', 'ORB', 'DRB', 'TRB', 'AST', 'STL', 'BLK', 'TOV', 'PF', 'PTS'])"
   ]
  },
  {
   "cell_type": "code",
   "execution_count": 6,
   "id": "52cdc74e-435e-4aec-ab29-9b25894d5061",
   "metadata": {},
   "outputs": [],
   "source": [
    "advDf = pd.DataFrame(columns=['adv_PER', 'adv_TS%', 'adv_3PAr', 'adv_FTr', 'adv_ORB%', 'adv_DRB%', 'adv_TRB%', 'adv_AST%', 'adv_STL%', 'adv_BLK%', 'adv_TOV%', 'adv_USG%', 'adv_OWS', 'adv_DWS', 'adv_WS', 'adv_WS/48', 'adv_OBPM', 'adv_DBPM', 'adv_BPM', 'adv_VORP'])"
   ]
  },
  {
   "cell_type": "code",
   "execution_count": 7,
   "id": "ca50e6ff-916b-463c-a377-f2a76f79780e",
   "metadata": {},
   "outputs": [],
   "source": [
    "for per_rows in pertable.tbody.find_all('tr', class_= 'full_table'):\n",
    "    #find all data for each column specified\n",
    "    columns = per_rows.find_all('td')\n",
    "    if (columns != []):\n",
    "        name = columns[0].text.strip()\n",
    "        pos = columns[1].text.strip()\n",
    "        age = columns[2].text.strip()\n",
    "        g = columns[4].text.strip()\n",
    "        gS = columns[5].text.strip()\n",
    "        mP = columns[6].text.strip()\n",
    "        fG = columns[7].text.strip()\n",
    "        fGA = columns[8].text.strip()\n",
    "        FGpercent = columns[9].text.strip()\n",
    "        p3 = columns[10].text.strip()\n",
    "        pA3 = columns[11].text.strip()\n",
    "        P3percent = columns[12].text.strip()\n",
    "        p2 = columns[13].text.strip()\n",
    "        pA2 = columns[14].text.strip()\n",
    "        P2percent = columns[15].text.strip()\n",
    "        eFGpercent = columns[16].text.strip()\n",
    "        fT = columns[17].text.strip()\n",
    "        fTA = columns[18].text.strip()\n",
    "        FTpercent = columns[19].text.strip()\n",
    "        oRB = columns[20].text.strip()\n",
    "        dRB = columns[21].text.strip()\n",
    "        tRB = columns[22].text.strip()\n",
    "        aST = columns[23].text.strip()\n",
    "        sTL = columns[24].text.strip()\n",
    "        bLK = columns[25].text.strip()\n",
    "        tOV = columns[26].text.strip()\n",
    "        pF = columns[27].text.strip()\n",
    "        pTS =columns[28].text.strip()\n",
    "        \n",
    "        perDf = perDf.append({'Name' : name, 'Pos' : pos, 'Age' : age, 'G': g, 'GS': gS, 'MP': mP, 'FG': fG, 'FGA': fGA,'FG%': FGpercent, '3P': p3, '3PA': pA3, '3P%': P3percent, '2P': p2, '2PA': pA2, '2P%': P2percent, 'eFG%': eFGpercent, 'FT': fT, 'FTA': fTA, 'FT%': FTpercent, 'ORB': oRB, 'DRB': dRB, 'TRB': tRB, 'AST': aST, 'STL': sTL, 'BLK': bLK, 'TOV': tOV, 'PF': pF, 'PTS': pTS}, ignore_index=True)"
   ]
  },
  {
   "cell_type": "code",
   "execution_count": 8,
   "id": "c449b8d9-70c7-4c33-9891-c52be22e0abe",
   "metadata": {},
   "outputs": [],
   "source": [
    "for adv_rows in advtable.tbody.find_all('tr', class_= 'full_table'):\n",
    "    #find all data for each column specified\n",
    "    columns = adv_rows.find_all('td')\n",
    "    if (columns != []):\n",
    "        Adv_PER = columns[6].text.strip()\n",
    "        Adv_Tper = columns[7].text.strip()\n",
    "        Adv_3PAr = columns[8].text.strip()  \n",
    "        Adv_FTr = columns[9].text.strip()  \n",
    "        Adv_ORBper = columns[10].text.strip()  \n",
    "        Adv_DRBper = columns[11].text.strip()  \n",
    "        Adv_TRBper = columns[12].text.strip()  \n",
    "        Adv_ASTper = columns[13].text.strip()  \n",
    "        Adv_STLper = columns[14].text.strip()  \n",
    "        Adv_BLKper = columns[15].text.strip()  \n",
    "        Adv_TOVper = columns[16].text.strip()  \n",
    "        Adv_USGper = columns[17].text.strip()  \n",
    "        Adv_OWS = columns[19].text.strip()  \n",
    "        Adv_DWS = columns[20].text.strip()  \n",
    "        Adv_WS = columns[21].text.strip()  \n",
    "        Adv_WSper48 = columns[22].text.strip()  \n",
    "        Adv_OBPM = columns[24].text.strip()  \n",
    "        Adv_DBPM = columns[25].text.strip()  \n",
    "        Adv_BPM = columns[26].text.strip()  \n",
    "        Adv_VORP = columns[27].text.strip()  \n",
    "\n",
    "        advDf = advDf.append({'adv_PER': Adv_PER, 'adv_TS%': Adv_Tper, 'adv_3PAr': Adv_3PAr, 'adv_FTr': Adv_FTr, 'adv_ORB%': Adv_ORBper, 'adv_DRB%': Adv_DRBper, 'adv_TRB%': Adv_TRBper, 'adv_AST%': Adv_ASTper, 'adv_STL%': Adv_STLper, 'adv_BLK%': Adv_BLKper, 'adv_TOV%': Adv_TOVper, 'adv_USG%': Adv_USGper, 'adv_OWS': Adv_OWS, 'adv_DWS': Adv_DWS, 'adv_WS': Adv_WS, 'adv_WS/48': Adv_WSper48, 'adv_OBPM': Adv_OBPM, 'adv_DBPM': Adv_DBPM, 'adv_BPM': Adv_BPM, 'adv_VORP': Adv_VORP}, ignore_index=True)"
   ]
  },
  {
   "cell_type": "code",
   "execution_count": 9,
   "id": "61bb0447-155e-46d6-8566-91d33ea1905e",
   "metadata": {},
   "outputs": [],
   "source": [
    "s21Stats = pd.concat([perDf, advDf], axis=1, join=\"inner\")"
   ]
  },
  {
   "cell_type": "code",
   "execution_count": 10,
   "id": "dbf75fe0-9d48-4a80-9272-a2f6f3f020b0",
   "metadata": {},
   "outputs": [],
   "source": [
    "AllNBA = urlopen(\"https://www.basketball-reference.com/awards/all_league.html\")\n",
    "AllNBAsoup = BeautifulSoup(AllNBA, features= \"lxml\")\n",
    "AllNBAtable = AllNBAsoup.find('table', class_= 'sortable stats_table')"
   ]
  },
  {
   "cell_type": "code",
   "execution_count": 15,
   "id": "902561dc-5129-4282-8aa8-f3b20d8e846f",
   "metadata": {},
   "outputs": [],
   "source": [
    "AllNBAdf = pd.DataFrame(columns =['Team', 'Center', 'Forward1', 'Forward2', 'Guard1', 'Guard2'])"
   ]
  },
  {
   "cell_type": "code",
   "execution_count": 16,
   "id": "9a0bd06b-1ce9-47f2-acb2-0903f908b6d0",
   "metadata": {},
   "outputs": [],
   "source": [
    "year = 21\n",
    "skip = 0\n",
    "for ALLNBA_rows in AllNBAtable.tbody.find_all('tr'):\n",
    "    if skip == 3:\n",
    "        skip = 0\n",
    "        break \n",
    "    skip += 1\n",
    "    columns = ALLNBA_rows.find_all('td')\n",
    "    if (columns != []):\n",
    "        team = columns[1].text.strip()\n",
    "        center = columns[2].text.strip()\n",
    "        f1 = columns[3].text.strip()\n",
    "        f2 = columns[4].text.strip()\n",
    "        g1 = columns[5].text.strip()\n",
    "        g2 = columns[6].text.strip()\n",
    "    \n",
    "        AllNBAdf = AllNBAdf.append({'Team': team, 'Center': center, 'Forward1': f1, 'Forward2': f2, 'Guard1': g1, 'Guard2': g2}, ignore_index=True)"
   ]
  },
  {
   "cell_type": "code",
   "execution_count": 17,
   "id": "6abccc86-7674-4e49-9381-894eb64cc184",
   "metadata": {},
   "outputs": [
    {
     "data": {
      "text/html": [
       "<div>\n",
       "<style scoped>\n",
       "    .dataframe tbody tr th:only-of-type {\n",
       "        vertical-align: middle;\n",
       "    }\n",
       "\n",
       "    .dataframe tbody tr th {\n",
       "        vertical-align: top;\n",
       "    }\n",
       "\n",
       "    .dataframe thead th {\n",
       "        text-align: right;\n",
       "    }\n",
       "</style>\n",
       "<table border=\"1\" class=\"dataframe\">\n",
       "  <thead>\n",
       "    <tr style=\"text-align: right;\">\n",
       "      <th></th>\n",
       "      <th>Team</th>\n",
       "      <th>Center</th>\n",
       "      <th>Forward1</th>\n",
       "      <th>Forward2</th>\n",
       "      <th>Guard1</th>\n",
       "      <th>Guard2</th>\n",
       "    </tr>\n",
       "  </thead>\n",
       "  <tbody>\n",
       "    <tr>\n",
       "      <th>0</th>\n",
       "      <td>1st</td>\n",
       "      <td>Nikola Jokić C</td>\n",
       "      <td>Giannis Antetokounmpo F</td>\n",
       "      <td>Kawhi Leonard F</td>\n",
       "      <td>Stephen Curry G</td>\n",
       "      <td>Luka Dončić G</td>\n",
       "    </tr>\n",
       "    <tr>\n",
       "      <th>1</th>\n",
       "      <td>2nd</td>\n",
       "      <td>Joel Embiid C</td>\n",
       "      <td>Julius Randle F</td>\n",
       "      <td>LeBron James F</td>\n",
       "      <td>Chris Paul G</td>\n",
       "      <td>Damian Lillard G</td>\n",
       "    </tr>\n",
       "    <tr>\n",
       "      <th>2</th>\n",
       "      <td>3rd</td>\n",
       "      <td>Rudy Gobert C</td>\n",
       "      <td>Jimmy Butler F</td>\n",
       "      <td>Paul George F</td>\n",
       "      <td>Bradley Beal G</td>\n",
       "      <td>Kyrie Irving G</td>\n",
       "    </tr>\n",
       "  </tbody>\n",
       "</table>\n",
       "</div>"
      ],
      "text/plain": [
       "  Team          Center                 Forward1         Forward2  \\\n",
       "0  1st  Nikola Jokić C  Giannis Antetokounmpo F  Kawhi Leonard F   \n",
       "1  2nd   Joel Embiid C          Julius Randle F   LeBron James F   \n",
       "2  3rd   Rudy Gobert C           Jimmy Butler F    Paul George F   \n",
       "\n",
       "            Guard1            Guard2  \n",
       "0  Stephen Curry G     Luka Dončić G  \n",
       "1     Chris Paul G  Damian Lillard G  \n",
       "2   Bradley Beal G    Kyrie Irving G  "
      ]
     },
     "execution_count": 17,
     "metadata": {},
     "output_type": "execute_result"
    }
   ],
   "source": [
    "AllNBAdf.head()"
   ]
  },
  {
   "cell_type": "code",
   "execution_count": null,
   "id": "c467510e-69ac-4024-92e9-b60e5c650b7e",
   "metadata": {},
   "outputs": [],
   "source": []
  }
 ],
 "metadata": {
  "kernelspec": {
   "display_name": "Python 3",
   "language": "python",
   "name": "python3"
  },
  "language_info": {
   "codemirror_mode": {
    "name": "ipython",
    "version": 3
   },
   "file_extension": ".py",
   "mimetype": "text/x-python",
   "name": "python",
   "nbconvert_exporter": "python",
   "pygments_lexer": "ipython3",
   "version": "3.8.8"
  }
 },
 "nbformat": 4,
 "nbformat_minor": 5
}
